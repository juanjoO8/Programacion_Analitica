{
 "cells": [
  {
   "cell_type": "code",
   "execution_count": 39,
   "metadata": {},
   "outputs": [],
   "source": [
    "import pandas as pd \n",
    "import matplotlib.pyplot as plt"
   ]
  },
  {
   "cell_type": "code",
   "execution_count": 40,
   "metadata": {},
   "outputs": [],
   "source": [
    "vino_rojo= \"./winequality-red.csv\"\n",
    "vino_blanco= \"./winequality-white.csv\""
   ]
  },
  {
   "cell_type": "code",
   "execution_count": 45,
   "metadata": {},
   "outputs": [],
   "source": [
    "headers = ['fixed acidity','volatile acidity','citric acid','residual sugar','chlorides','free sulfur dioxide',\n",
    "'total sulfur dioxide','density','pH','sulphates','alcohol','quality']\n"
   ]
  },
  {
   "cell_type": "code",
   "execution_count": 46,
   "metadata": {},
   "outputs": [],
   "source": [
    "df_vino_rojo = pd.read_csv(vino_rojo ,sep = \";\", names= headers)\n",
    "df_vino_blanco = pd.read_csv(vino_blanco, sep = \";\", names = headers)"
   ]
  },
  {
   "attachments": {},
   "cell_type": "markdown",
   "metadata": {},
   "source": [
    "#esta funcion sirve para mirar el numero de filas y columnas que tiene el conjutno de datos,en la tabla de abajo se ve el numero de filas y columnas de los dos data frames.\n"
   ]
  },
  {
   "cell_type": "code",
   "execution_count": 50,
   "metadata": {},
   "outputs": [
    {
     "data": {
      "text/plain": [
       "(      fixed acidity  volatile acidity  citric acid  residual sugar  chlorides  \\\n",
       " 0               7.4             0.700         0.00             1.9      0.076   \n",
       " 1               7.8             0.880         0.00             2.6      0.098   \n",
       " 2               7.8             0.760         0.04             2.3      0.092   \n",
       " 3              11.2             0.280         0.56             1.9      0.075   \n",
       " 4               7.4             0.700         0.00             1.9      0.076   \n",
       " ...             ...               ...          ...             ...        ...   \n",
       " 1594            6.2             0.600         0.08             2.0      0.090   \n",
       " 1595            5.9             0.550         0.10             2.2      0.062   \n",
       " 1596            6.3             0.510         0.13             2.3      0.076   \n",
       " 1597            5.9             0.645         0.12             2.0      0.075   \n",
       " 1598            6.0             0.310         0.47             3.6      0.067   \n",
       " \n",
       "       free sulfur dioxide  total sulfur dioxide  density    pH  sulphates  \\\n",
       " 0                    11.0                  34.0  0.99780  3.51       0.56   \n",
       " 1                    25.0                  67.0  0.99680  3.20       0.68   \n",
       " 2                    15.0                  54.0  0.99700  3.26       0.65   \n",
       " 3                    17.0                  60.0  0.99800  3.16       0.58   \n",
       " 4                    11.0                  34.0  0.99780  3.51       0.56   \n",
       " ...                   ...                   ...      ...   ...        ...   \n",
       " 1594                 32.0                  44.0  0.99490  3.45       0.58   \n",
       " 1595                 39.0                  51.0  0.99512  3.52       0.76   \n",
       " 1596                 29.0                  40.0  0.99574  3.42       0.75   \n",
       " 1597                 32.0                  44.0  0.99547  3.57       0.71   \n",
       " 1598                 18.0                  42.0  0.99549  3.39       0.66   \n",
       " \n",
       "       alcohol  quality  \n",
       " 0         9.4        5  \n",
       " 1         9.8        5  \n",
       " 2         9.8        5  \n",
       " 3         9.8        6  \n",
       " 4         9.4        5  \n",
       " ...       ...      ...  \n",
       " 1594     10.5        5  \n",
       " 1595     11.2        6  \n",
       " 1596     11.0        6  \n",
       " 1597     10.2        5  \n",
       " 1598     11.0        6  \n",
       " \n",
       " [1599 rows x 12 columns],\n",
       "        fixed acidity  volatile acidity  citric acid  residual sugar  \\\n",
       " count    4898.000000       4898.000000  4898.000000     4898.000000   \n",
       " mean        6.854788          0.278241     0.334192        6.391415   \n",
       " std         0.843868          0.100795     0.121020        5.072058   \n",
       " min         3.800000          0.080000     0.000000        0.600000   \n",
       " 25%         6.300000          0.210000     0.270000        1.700000   \n",
       " 50%         6.800000          0.260000     0.320000        5.200000   \n",
       " 75%         7.300000          0.320000     0.390000        9.900000   \n",
       " max        14.200000          1.100000     1.660000       65.800000   \n",
       " \n",
       "          chlorides  free sulfur dioxide  total sulfur dioxide      density  \\\n",
       " count  4898.000000          4898.000000           4898.000000  4898.000000   \n",
       " mean      0.045772            35.308085            138.360657     0.994027   \n",
       " std       0.021848            17.007137             42.498065     0.002991   \n",
       " min       0.009000             2.000000              9.000000     0.987110   \n",
       " 25%       0.036000            23.000000            108.000000     0.991723   \n",
       " 50%       0.043000            34.000000            134.000000     0.993740   \n",
       " 75%       0.050000            46.000000            167.000000     0.996100   \n",
       " max       0.346000           289.000000            440.000000     1.038980   \n",
       " \n",
       "                 pH    sulphates      alcohol      quality  \n",
       " count  4898.000000  4898.000000  4898.000000  4898.000000  \n",
       " mean      3.188267     0.489847    10.514267     5.877909  \n",
       " std       0.151001     0.114126     1.230621     0.885639  \n",
       " min       2.720000     0.220000     8.000000     3.000000  \n",
       " 25%       3.090000     0.410000     9.500000     5.000000  \n",
       " 50%       3.180000     0.470000    10.400000     6.000000  \n",
       " 75%       3.280000     0.550000    11.400000     6.000000  \n",
       " max       3.820000     1.080000    14.200000     9.000000  )"
      ]
     },
     "execution_count": 50,
     "metadata": {},
     "output_type": "execute_result"
    }
   ],
   "source": [
    "df_vino_rojo,df_vino_blanco.describe()"
   ]
  },
  {
   "cell_type": "code",
   "execution_count": 48,
   "metadata": {},
   "outputs": [
    {
     "name": "stdout",
     "output_type": "stream",
     "text": [
      "<class 'pandas.core.frame.DataFrame'>\n",
      "RangeIndex: 1599 entries, 0 to 1598\n",
      "Data columns (total 12 columns):\n",
      " #   Column                Non-Null Count  Dtype  \n",
      "---  ------                --------------  -----  \n",
      " 0   fixed acidity         1599 non-null   float64\n",
      " 1   volatile acidity      1599 non-null   float64\n",
      " 2   citric acid           1599 non-null   float64\n",
      " 3   residual sugar        1599 non-null   float64\n",
      " 4   chlorides             1599 non-null   float64\n",
      " 5   free sulfur dioxide   1599 non-null   float64\n",
      " 6   total sulfur dioxide  1599 non-null   float64\n",
      " 7   density               1599 non-null   float64\n",
      " 8   pH                    1599 non-null   float64\n",
      " 9   sulphates             1599 non-null   float64\n",
      " 10  alcohol               1599 non-null   float64\n",
      " 11  quality               1599 non-null   int64  \n",
      "dtypes: float64(11), int64(1)\n",
      "memory usage: 150.0 KB\n"
     ]
    },
    {
     "data": {
      "text/plain": [
       "(      fixed acidity  volatile acidity  citric acid  residual sugar  chlorides  \\\n",
       " 0               7.0              0.27         0.36            20.7      0.045   \n",
       " 1               6.3              0.30         0.34             1.6      0.049   \n",
       " 2               8.1              0.28         0.40             6.9      0.050   \n",
       " 3               7.2              0.23         0.32             8.5      0.058   \n",
       " 4               7.2              0.23         0.32             8.5      0.058   \n",
       " ...             ...               ...          ...             ...        ...   \n",
       " 4893            6.2              0.21         0.29             1.6      0.039   \n",
       " 4894            6.6              0.32         0.36             8.0      0.047   \n",
       " 4895            6.5              0.24         0.19             1.2      0.041   \n",
       " 4896            5.5              0.29         0.30             1.1      0.022   \n",
       " 4897            6.0              0.21         0.38             0.8      0.020   \n",
       " \n",
       "       free sulfur dioxide  total sulfur dioxide  density    pH  sulphates  \\\n",
       " 0                    45.0                 170.0  1.00100  3.00       0.45   \n",
       " 1                    14.0                 132.0  0.99400  3.30       0.49   \n",
       " 2                    30.0                  97.0  0.99510  3.26       0.44   \n",
       " 3                    47.0                 186.0  0.99560  3.19       0.40   \n",
       " 4                    47.0                 186.0  0.99560  3.19       0.40   \n",
       " ...                   ...                   ...      ...   ...        ...   \n",
       " 4893                 24.0                  92.0  0.99114  3.27       0.50   \n",
       " 4894                 57.0                 168.0  0.99490  3.15       0.46   \n",
       " 4895                 30.0                 111.0  0.99254  2.99       0.46   \n",
       " 4896                 20.0                 110.0  0.98869  3.34       0.38   \n",
       " 4897                 22.0                  98.0  0.98941  3.26       0.32   \n",
       " \n",
       "       alcohol  quality  \n",
       " 0         8.8        6  \n",
       " 1         9.5        6  \n",
       " 2        10.1        6  \n",
       " 3         9.9        6  \n",
       " 4         9.9        6  \n",
       " ...       ...      ...  \n",
       " 4893     11.2        6  \n",
       " 4894      9.6        5  \n",
       " 4895      9.4        6  \n",
       " 4896     12.8        7  \n",
       " 4897     11.8        6  \n",
       " \n",
       " [4898 rows x 12 columns],\n",
       " None)"
      ]
     },
     "execution_count": 48,
     "metadata": {},
     "output_type": "execute_result"
    }
   ],
   "source": [
    "df_vino_blanco,df_vino_rojo.info()"
   ]
  },
  {
   "cell_type": "code",
   "execution_count": 49,
   "metadata": {},
   "outputs": [
    {
     "data": {
      "text/html": [
       "<div>\n",
       "<style scoped>\n",
       "    .dataframe tbody tr th:only-of-type {\n",
       "        vertical-align: middle;\n",
       "    }\n",
       "\n",
       "    .dataframe tbody tr th {\n",
       "        vertical-align: top;\n",
       "    }\n",
       "\n",
       "    .dataframe thead th {\n",
       "        text-align: right;\n",
       "    }\n",
       "</style>\n",
       "<table border=\"1\" class=\"dataframe\">\n",
       "  <thead>\n",
       "    <tr style=\"text-align: right;\">\n",
       "      <th></th>\n",
       "      <th>pH</th>\n",
       "      <th>quality</th>\n",
       "    </tr>\n",
       "  </thead>\n",
       "  <tbody>\n",
       "    <tr>\n",
       "      <th>pH</th>\n",
       "      <td>1.000000</td>\n",
       "      <td>0.099427</td>\n",
       "    </tr>\n",
       "    <tr>\n",
       "      <th>quality</th>\n",
       "      <td>0.099427</td>\n",
       "      <td>1.000000</td>\n",
       "    </tr>\n",
       "  </tbody>\n",
       "</table>\n",
       "</div>"
      ],
      "text/plain": [
       "               pH   quality\n",
       "pH       1.000000  0.099427\n",
       "quality  0.099427  1.000000"
      ]
     },
     "execution_count": 49,
     "metadata": {},
     "output_type": "execute_result"
    }
   ],
   "source": [
    "df_vino_blanco[[\"pH\",\"quality\"]].corr()"
   ]
  },
  {
   "attachments": {},
   "cell_type": "markdown",
   "metadata": {},
   "source": [
    "#Se realizo un analisis de correlacion "
   ]
  },
  {
   "cell_type": "code",
   "execution_count": 52,
   "metadata": {},
   "outputs": [],
   "source": [
    "import seaborn as sns"
   ]
  },
  {
   "cell_type": "code",
   "execution_count": 58,
   "metadata": {},
   "outputs": [
    {
     "data": {
      "text/plain": [
       "<Axes: xlabel='quality', ylabel='pH'>"
      ]
     },
     "execution_count": 58,
     "metadata": {},
     "output_type": "execute_result"
    },
    {
     "data": {
      "image/png": "[encoded data removed]",
      "text/plain": [
       "<Figure size 640x480 with 1 Axes>"
      ]
     },
     "metadata": {},
     "output_type": "display_data"
    }
   ],
   "source": [
    "sns.boxplot(x=\"quality\", y= \"pH\",data= df_vino_blanco)\n"
   ]
  },
  {
   "cell_type": "code",
   "execution_count": 59,
   "metadata": {},
   "outputs": [
    {
     "data": {
      "text/plain": [
       "<Axes: xlabel='quality', ylabel='pH'>"
      ]
     },
     "execution_count": 59,
     "metadata": {},
     "output_type": "execute_result"
    },
    {
     "data": {
      "image/png": "[encoded data removed]",
      "text/plain": [
       "<Figure size 640x480 with 1 Axes>"
      ]
     },
     "metadata": {},
     "output_type": "display_data"
    }
   ],
   "source": [
    "sns.boxplot(x=\"quality\", y= \"pH\",data= df_vino_rojo)"
   ]
  },
  {
   "cell_type": "code",
   "execution_count": 60,
   "metadata": {},
   "outputs": [
    {
     "data": {
      "image/png": "[encoded data removed]",
      "text/plain": [
       "<Figure size 640x480 with 1 Axes>"
      ]
     },
     "metadata": {},
     "output_type": "display_data"
    }
   ],
   "source": [
    "sns.histplot(x=\"quality\",data = df_vino_rojo)\n",
    "plt.show()"
   ]
  },
  {
   "cell_type": "code",
   "execution_count": 61,
   "metadata": {},
   "outputs": [
    {
     "data": {
      "image/png": "[encoded data removed]",
      "text/plain": [
       "<Figure size 640x480 with 1 Axes>"
      ]
     },
     "metadata": {},
     "output_type": "display_data"
    }
   ],
   "source": [
    "sns.histplot(x=\"quality\",data = df_vino_blanco)\n",
    "plt.show()"
   ]
  }
 ],
 "metadata": {
  "kernelspec": {
   "display_name": "Python 3",
   "language": "python",
   "name": "python3"
  },
  "language_info": {
   "codemirror_mode": {
    "name": "ipython",
    "version": 3
   },
   "file_extension": ".py",
   "mimetype": "text/x-python",
   "name": "python",
   "nbconvert_exporter": "python",
   "pygments_lexer": "ipython3",
   "version": "3.10.10"
  },
  "orig_nbformat": 4
 },
 "nbformat": 4,
 "nbformat_minor": 2
}
